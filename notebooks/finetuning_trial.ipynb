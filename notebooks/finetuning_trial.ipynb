{
 "cells": [
  {
   "cell_type": "code",
   "execution_count": null,
   "id": "1c9b03b7",
   "metadata": {},
   "outputs": [],
   "source": [
    "import torch\n",
    "from ultralytics import YOLO\n",
    "\n",
    "print(\"Torch version:\", torch.__version__)\n",
    "print(\"CUDA available:\", torch.cuda.is_available())\n"
   ]
  },
  {
   "cell_type": "code",
   "execution_count": null,
   "id": "6a458624",
   "metadata": {},
   "outputs": [],
   "source": [
    "# Path to your data.yaml\n",
    "data_path = '../data/data.yaml'\n",
    "\n",
    "# Show the data.yaml content\n",
    "with open(data_path, 'r') as f:\n",
    "    print(f.read())\n"
   ]
  },
  {
   "cell_type": "code",
   "execution_count": null,
   "id": "4e0cf472",
   "metadata": {},
   "outputs": [],
   "source": [
    "model = YOLO('../outputs/models/yolov8n_finetuned_v2.pt')\n",
    "results = model.train(\n",
    "    data='../data/data.yaml',\n",
    "    epochs=100,\n",
    "    patience=10,\n",
    "    imgsz=640,\n",
    "    batch=8,\n",
    "    name='wardrobe_yolov8n_macos',\n",
    "    project='../outputs'\n",
    ")\n",
    "\n",
    "# Run validation on the best model\n",
    "metrics = model.val()\n",
    "print(metrics)\n"
   ]
  }
 ],
 "metadata": {
  "kernelspec": {
   "display_name": "venv",
   "language": "python",
   "name": "python3"
  },
  "language_info": {
   "codemirror_mode": {
    "name": "ipython",
    "version": 3
   },
   "file_extension": ".py",
   "mimetype": "text/x-python",
   "name": "python",
   "nbconvert_exporter": "python",
   "pygments_lexer": "ipython3",
   "version": "3.13.3"
  }
 },
 "nbformat": 4,
 "nbformat_minor": 5
}
