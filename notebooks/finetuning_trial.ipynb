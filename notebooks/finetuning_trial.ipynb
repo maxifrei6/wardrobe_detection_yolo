{
 "cells": [
  {
   "cell_type": "code",
   "execution_count": null,
   "id": "1c9b03b7",
   "metadata": {},
   "outputs": [],
   "source": [
    "%pip install ultralytics\n",
    "\n",
    "import torch\n",
    "from ultralytics import YOLO\n",
    "\n",
    "print(\"Torch version:\", torch.__version__)\n",
    "print(\"CUDA available:\", torch.cuda.is_available())\n"
   ]
  },
  {
   "cell_type": "code",
   "execution_count": null,
   "id": "6a458624",
   "metadata": {},
   "outputs": [],
   "source": [
    "# Path to your data.yaml\n",
    "data_path = '../data/data.yaml'\n",
    "\n",
    "# Show the data.yaml content\n",
    "with open(data_path, 'r') as f:\n",
    "    print(f.read())\n"
   ]
  },
  {
   "cell_type": "code",
   "execution_count": null,
   "id": "4e0cf472",
   "metadata": {},
   "outputs": [],
   "source": [
    "model = YOLO('../models/yolov8n.pt')\n",
    "results = model.train(\n",
    "    data='../data/data.yaml',\n",
    "    epochs=100,\n",
    "    patience=10,\n",
    "    imgsz=640,\n",
    "    batch=8,\n",
    "    name='wardrobe_yolov8n_macos',\n",
    "    project='../outputs'\n",
    ")\n",
    "\n",
    "# Run validation on the best model\n",
    "metrics = model.val()\n",
    "print(metrics)\n"
   ]
  },
  {
   "cell_type": "code",
   "execution_count": null,
   "id": "86e8daac",
   "metadata": {},
   "outputs": [],
   "source": [
    "%pip install opencv-python\n",
    "\n",
    "import cv2\n",
    "from ultralytics import YOLO\n",
    "\n",
    "# Load your trained model\n",
    "model = YOLO('../outputs/models/yolov8n_finetuned.pt')\n",
    "\n",
    "# Open webcam 1 (change the index as needed)\n",
    "cap = cv2.VideoCapture(1)\n",
    "\n",
    "if not cap.isOpened():\n",
    "    print(\"Error: Could not open webcam.\")\n",
    "    exit()\n",
    "\n",
    "while True:\n",
    "    ret, frame = cap.read()\n",
    "    if not ret:\n",
    "        print(\"Failed to grab frame.\")\n",
    "        break\n",
    "\n",
    "    # Run YOLO prediction\n",
    "    results = model.predict(frame, show=True)\n",
    "\n",
    "    # Press 'q' to quit\n",
    "    if cv2.waitKey(1) & 0xFF == ord('q'):\n",
    "        break\n",
    "\n",
    "cap.release()\n",
    "cv2.destroyAllWindows()"
   ]
  }
 ],
 "metadata": {
  "kernelspec": {
   "display_name": "venv",
   "language": "python",
   "name": "python3"
  },
  "language_info": {
   "codemirror_mode": {
    "name": "ipython",
    "version": 3
   },
   "file_extension": ".py",
   "mimetype": "text/x-python",
   "name": "python",
   "nbconvert_exporter": "python",
   "pygments_lexer": "ipython3",
   "version": "3.10.17"
  }
 },
 "nbformat": 4,
 "nbformat_minor": 5
}
